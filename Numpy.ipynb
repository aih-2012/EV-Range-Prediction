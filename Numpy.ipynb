{
  "nbformat": 4,
  "nbformat_minor": 0,
  "metadata": {
    "colab": {
      "provenance": [],
      "authorship_tag": "ABX9TyM6zuRayqRkXnPIVMAshmcG",
      "include_colab_link": true
    },
    "kernelspec": {
      "name": "python3",
      "display_name": "Python 3"
    },
    "language_info": {
      "name": "python"
    }
  },
  "cells": [
    {
      "cell_type": "markdown",
      "metadata": {
        "id": "view-in-github",
        "colab_type": "text"
      },
      "source": [
        "<a href=\"https://colab.research.google.com/github/aih-2012/ML-Practice/blob/main/Numpy.ipynb\" target=\"_parent\"><img src=\"https://colab.research.google.com/assets/colab-badge.svg\" alt=\"Open In Colab\"/></a>"
      ]
    },
    {
      "cell_type": "markdown",
      "source": [
        "Lists vs Numpy Arrays:\n",
        "\n",
        "- Numpy Arrays are faster\n",
        "- Numpy Arrays take less memory space\n",
        "- Numpy Arrays store data continuously/sequentially in the memory\n",
        "- Numpy arrays support complex mathematical calculations\n",
        "- Data types can be defined in Numpy Arrays"
      ],
      "metadata": {
        "id": "nrowNa1gUMFw"
      }
    },
    {
      "cell_type": "markdown",
      "source": [
        "`import numpy as np` - For importing library in project\n",
        "\n",
        "`arr1 = np.array([1, 2, 3, 4, 5])` - For creating numpy array object (1D)\n",
        "\n",
        "`arr1 = np.array([[1, 2, 3, 4, 5], [1, 2, 3, 4, 5]])` - For creating Numpy array object (2D)\n",
        "\n",
        "`arr1.ndim` - For viewing number of dimensions\n",
        "\n",
        "`arr1.dtype`  - For viewing/defining data type of array\n",
        "\n",
        "`arr1.shape` - For viewing shape of array (rows, columns)\n",
        "\n",
        "`np.zeros([a,b])` - For creating an all-zero array of size `(a,b)`\n",
        "\n",
        "`np.ones([a,b])` - For creating an all-one array of size `(a,b)`\n",
        "\n",
        "`np.full([a,b], i)` - For creating an `(a,b)` array with all values as `i`\n",
        "\n",
        "`arr2 = arr1.copy()` - For creating a new array containing all the contents of another array\n",
        "\n",
        "`arr1.astype()` - For converting the data type of an array\n",
        "\n",
        "`arr2 = arr1.view()` - For creating a duplicate of an array whose changes will change the original array\n",
        "\n",
        "`np.add(arr1, n)`, `np.subtract(arr1, n)`, `np.multiply(arr1, n)`, `np.divide(arr1, n)`, `np.sin(arr1, n)`, `np.cos(arr1, n)`, `np.tan(arr1, n)` etc. for various mathematical operations\n"
      ],
      "metadata": {
        "id": "hSg3DCAOAEam"
      }
    },
    {
      "cell_type": "code",
      "source": [
        "import numpy as np\n",
        "a = np.array([1,3,5,7,9], dtype='int32') # Numpy array with data type as 32-bit int\n",
        "a"
      ],
      "metadata": {
        "colab": {
          "base_uri": "https://localhost:8080/"
        },
        "id": "aT6CWkRe193j",
        "outputId": "a246d6fd-f33e-4d3f-ddbe-10e61632283e"
      },
      "execution_count": 1,
      "outputs": [
        {
          "output_type": "execute_result",
          "data": {
            "text/plain": [
              "array([1, 3, 5, 7, 9], dtype=int32)"
            ]
          },
          "metadata": {},
          "execution_count": 1
        }
      ]
    },
    {
      "cell_type": "markdown",
      "source": [
        "**Data** **Type**"
      ],
      "metadata": {
        "id": "pAbnRcBZg13t"
      }
    },
    {
      "cell_type": "code",
      "source": [
        "a.dtype # Print the data type of numpy array"
      ],
      "metadata": {
        "colab": {
          "base_uri": "https://localhost:8080/"
        },
        "id": "HtG7CWsn5_Nh",
        "outputId": "e635391a-7b74-4652-fc21-3ff8a82bd67c"
      },
      "execution_count": 2,
      "outputs": [
        {
          "output_type": "execute_result",
          "data": {
            "text/plain": [
              "dtype('int32')"
            ]
          },
          "metadata": {},
          "execution_count": 2
        }
      ]
    },
    {
      "cell_type": "markdown",
      "source": [
        "**Number of dimensions**"
      ],
      "metadata": {
        "id": "zFkycp2Cg63M"
      }
    },
    {
      "cell_type": "code",
      "source": [
        "a_2d = np.array([[[1,2,3],[4,5,6]], [[3,2,1],[6,5,4]], [[7,8,9],[10,11,12]], [[9,8,7],[12,11,10]]]) # Two-dimensional numpy array\n",
        "a_2d.ndim # Print dimensions of numpy array"
      ],
      "metadata": {
        "colab": {
          "base_uri": "https://localhost:8080/"
        },
        "id": "8KHzgP8q45JQ",
        "outputId": "c08f5dfc-9520-4018-f3e2-0732bb12a7d2"
      },
      "execution_count": 3,
      "outputs": [
        {
          "output_type": "execute_result",
          "data": {
            "text/plain": [
              "3"
            ]
          },
          "metadata": {},
          "execution_count": 3
        }
      ]
    },
    {
      "cell_type": "markdown",
      "source": [
        "**Shape**"
      ],
      "metadata": {
        "id": "3RLTR7NchEIn"
      }
    },
    {
      "cell_type": "code",
      "source": [
        "a_2d.shape # Print the shape (i.e. rows, columns) of numpy array"
      ],
      "metadata": {
        "colab": {
          "base_uri": "https://localhost:8080/"
        },
        "id": "XqEqTBKC49U9",
        "outputId": "1a4a9c29-eca2-4e3c-95ac-0e2bf0623e4b"
      },
      "execution_count": 4,
      "outputs": [
        {
          "output_type": "execute_result",
          "data": {
            "text/plain": [
              "(4, 2, 3)"
            ]
          },
          "metadata": {},
          "execution_count": 4
        }
      ]
    },
    {
      "cell_type": "code",
      "source": [
        "print(a_2d[0, 1, 2]) # Print the third character (index-2) at index-1 of the first array (index-0) of a_2d"
      ],
      "metadata": {
        "colab": {
          "base_uri": "https://localhost:8080/"
        },
        "id": "OhVj6DEI5e-f",
        "outputId": "41b59f7a-195b-42c1-f076-52c3e24c6928"
      },
      "execution_count": 5,
      "outputs": [
        {
          "output_type": "stream",
          "name": "stdout",
          "text": [
            "6\n"
          ]
        }
      ]
    },
    {
      "cell_type": "code",
      "source": [
        "a_2d[0, 1, 0] = 7 # Assign the first character (index-0) at index-1 of the first array (index-0) of a_2d\n",
        "a_2d[0, 1]"
      ],
      "metadata": {
        "colab": {
          "base_uri": "https://localhost:8080/"
        },
        "id": "J2ut1MdQAAXP",
        "outputId": "7766309f-2ef3-4b34-8a1a-a4160aa559dd"
      },
      "execution_count": 6,
      "outputs": [
        {
          "output_type": "execute_result",
          "data": {
            "text/plain": [
              "array([7, 5, 6])"
            ]
          },
          "metadata": {},
          "execution_count": 6
        }
      ]
    },
    {
      "cell_type": "code",
      "source": [
        "b = np.zeros([2, 3]) # Generate an all-zero matrix of shape (2,2)\n",
        "b"
      ],
      "metadata": {
        "colab": {
          "base_uri": "https://localhost:8080/"
        },
        "id": "s7e1RVoSA0QK",
        "outputId": "5c471df4-2aa7-4306-bcfd-aefa74b438e3"
      },
      "execution_count": 7,
      "outputs": [
        {
          "output_type": "execute_result",
          "data": {
            "text/plain": [
              "array([[0., 0., 0.],\n",
              "       [0., 0., 0.]])"
            ]
          },
          "metadata": {},
          "execution_count": 7
        }
      ]
    },
    {
      "cell_type": "code",
      "source": [
        "c = np.full([4, 4], 72) # Generate a matrix where all values are 72 with size (4,5)\n",
        "c"
      ],
      "metadata": {
        "colab": {
          "base_uri": "https://localhost:8080/"
        },
        "id": "zqo_HQJMBZys",
        "outputId": "32589962-b64d-45d9-da4b-353588b90380"
      },
      "execution_count": 8,
      "outputs": [
        {
          "output_type": "execute_result",
          "data": {
            "text/plain": [
              "array([[72, 72, 72, 72],\n",
              "       [72, 72, 72, 72],\n",
              "       [72, 72, 72, 72],\n",
              "       [72, 72, 72, 72]])"
            ]
          },
          "metadata": {},
          "execution_count": 8
        }
      ]
    },
    {
      "cell_type": "code",
      "source": [
        "# The problem with assigning variables to numpy arrays of other variables\n",
        "d = np.array([[1,2,3], [4,5,6]])\n",
        "e = d # Copy the 'd' array to an 'e' variable\n",
        "e[0, 2] = 9 # Assign the value at index (0, 2) of 'e' array to 9\n",
        "d # The array 'd' is changed to that of 'e'"
      ],
      "metadata": {
        "colab": {
          "base_uri": "https://localhost:8080/"
        },
        "id": "19MkTEsRCGZ-",
        "outputId": "7b68e851-d253-4dc8-b79e-2c24459b5a50"
      },
      "execution_count": 9,
      "outputs": [
        {
          "output_type": "execute_result",
          "data": {
            "text/plain": [
              "array([[1, 2, 9],\n",
              "       [4, 5, 6]])"
            ]
          },
          "metadata": {},
          "execution_count": 9
        }
      ]
    },
    {
      "cell_type": "code",
      "source": [
        "# Solution\n",
        "f = np.array([[1,2,3], [4,5,6]])\n",
        "g = f.copy() # Copy the 'd' array to an 'e' variable USING NUMPY COPY() METHOD\n",
        "g[0, 2] = 9 # Assign the value at index (0, 2) of 'g' array to 9\n",
        "f # The array 'd' is changed to that of 'e'"
      ],
      "metadata": {
        "colab": {
          "base_uri": "https://localhost:8080/"
        },
        "id": "xxMW873uDAsN",
        "outputId": "953b8b12-369d-4984-975b-10c245bfc64a"
      },
      "execution_count": 10,
      "outputs": [
        {
          "output_type": "execute_result",
          "data": {
            "text/plain": [
              "array([[1, 2, 3],\n",
              "       [4, 5, 6]])"
            ]
          },
          "metadata": {},
          "execution_count": 10
        }
      ]
    },
    {
      "cell_type": "code",
      "source": [
        "# Mathematical Operations\n",
        "\n",
        "a1 = np.array([1, 2, 3, 4, 5, 6])\n",
        "b1 = np.array([7, 8, 9, 10, 11, 12])"
      ],
      "metadata": {
        "id": "X0AhxWUaMHX1"
      },
      "execution_count": 11,
      "outputs": []
    },
    {
      "cell_type": "markdown",
      "source": [
        "**Addition**"
      ],
      "metadata": {
        "id": "uIpG3ZWXft1p"
      }
    },
    {
      "cell_type": "code",
      "source": [
        "a1+b1 # Addition"
      ],
      "metadata": {
        "colab": {
          "base_uri": "https://localhost:8080/"
        },
        "id": "bUGx7_czfhyy",
        "outputId": "a57a0637-ba27-4bb4-c49d-8d3524f14793"
      },
      "execution_count": 12,
      "outputs": [
        {
          "output_type": "execute_result",
          "data": {
            "text/plain": [
              "array([ 8, 10, 12, 14, 16, 18])"
            ]
          },
          "metadata": {},
          "execution_count": 12
        }
      ]
    },
    {
      "cell_type": "code",
      "source": [
        "np.add(a1, b1) # Addition"
      ],
      "metadata": {
        "colab": {
          "base_uri": "https://localhost:8080/"
        },
        "id": "ZSfDwXu1fpJ7",
        "outputId": "8c600fa1-365b-406a-ae11-f7d92630c284"
      },
      "execution_count": 13,
      "outputs": [
        {
          "output_type": "execute_result",
          "data": {
            "text/plain": [
              "array([ 8, 10, 12, 14, 16, 18])"
            ]
          },
          "metadata": {},
          "execution_count": 13
        }
      ]
    },
    {
      "cell_type": "markdown",
      "source": [
        "**Subtraction**"
      ],
      "metadata": {
        "id": "HTTaF-NMfwxb"
      }
    },
    {
      "cell_type": "code",
      "source": [
        "a1-b1 # Subtraction"
      ],
      "metadata": {
        "colab": {
          "base_uri": "https://localhost:8080/"
        },
        "id": "b_1XxQP6frYr",
        "outputId": "5f29ecbf-9ef1-4b4e-cd84-b29d385e99f5"
      },
      "execution_count": 14,
      "outputs": [
        {
          "output_type": "execute_result",
          "data": {
            "text/plain": [
              "array([-6, -6, -6, -6, -6, -6])"
            ]
          },
          "metadata": {},
          "execution_count": 14
        }
      ]
    },
    {
      "cell_type": "code",
      "source": [
        "np.subtract(a1, b1) # Subtraction"
      ],
      "metadata": {
        "colab": {
          "base_uri": "https://localhost:8080/"
        },
        "id": "RwKUBqDdfs-H",
        "outputId": "f4afd79f-68f3-4b7f-8819-b5852ed17ad3"
      },
      "execution_count": 15,
      "outputs": [
        {
          "output_type": "execute_result",
          "data": {
            "text/plain": [
              "array([-6, -6, -6, -6, -6, -6])"
            ]
          },
          "metadata": {},
          "execution_count": 15
        }
      ]
    },
    {
      "cell_type": "markdown",
      "source": [
        "**Multiplication**"
      ],
      "metadata": {
        "id": "A7hvwSJef1oT"
      }
    },
    {
      "cell_type": "code",
      "source": [
        "a1*b1 # Multiply"
      ],
      "metadata": {
        "colab": {
          "base_uri": "https://localhost:8080/"
        },
        "id": "cy10_0U9f3jU",
        "outputId": "bccf51ad-b993-4fbf-914b-dbb90e953614"
      },
      "execution_count": 16,
      "outputs": [
        {
          "output_type": "execute_result",
          "data": {
            "text/plain": [
              "array([ 7, 16, 27, 40, 55, 72])"
            ]
          },
          "metadata": {},
          "execution_count": 16
        }
      ]
    },
    {
      "cell_type": "code",
      "source": [
        "np.multiply(a1, b1) # Multiply"
      ],
      "metadata": {
        "colab": {
          "base_uri": "https://localhost:8080/"
        },
        "id": "OT8lUeNPf6Aj",
        "outputId": "9cb44d35-87e1-40e4-a0bd-e5bc99dfdb32"
      },
      "execution_count": 17,
      "outputs": [
        {
          "output_type": "execute_result",
          "data": {
            "text/plain": [
              "array([ 7, 16, 27, 40, 55, 72])"
            ]
          },
          "metadata": {},
          "execution_count": 17
        }
      ]
    },
    {
      "cell_type": "markdown",
      "source": [
        "**Division**"
      ],
      "metadata": {
        "id": "-yjuPFdFgAqO"
      }
    },
    {
      "cell_type": "code",
      "source": [
        "a1/b1 # Divide"
      ],
      "metadata": {
        "colab": {
          "base_uri": "https://localhost:8080/"
        },
        "id": "4oMIBZGsgD3Y",
        "outputId": "9ffe1300-e033-4c96-b014-5de63648072b"
      },
      "execution_count": 18,
      "outputs": [
        {
          "output_type": "execute_result",
          "data": {
            "text/plain": [
              "array([0.14285714, 0.25      , 0.33333333, 0.4       , 0.45454545,\n",
              "       0.5       ])"
            ]
          },
          "metadata": {},
          "execution_count": 18
        }
      ]
    },
    {
      "cell_type": "code",
      "source": [
        "np.divide(a1, b1) # Divide"
      ],
      "metadata": {
        "colab": {
          "base_uri": "https://localhost:8080/"
        },
        "id": "6ivnbsjDgHKC",
        "outputId": "47cc1a7f-4924-4eaa-963e-f41f0bdcdb48"
      },
      "execution_count": 19,
      "outputs": [
        {
          "output_type": "execute_result",
          "data": {
            "text/plain": [
              "array([0.14285714, 0.25      , 0.33333333, 0.4       , 0.45454545,\n",
              "       0.5       ])"
            ]
          },
          "metadata": {},
          "execution_count": 19
        }
      ]
    },
    {
      "cell_type": "markdown",
      "source": [
        "**Sine**"
      ],
      "metadata": {
        "id": "TxjRzANtgKWu"
      }
    },
    {
      "cell_type": "code",
      "source": [
        "np.sin(a1) # Sine"
      ],
      "metadata": {
        "colab": {
          "base_uri": "https://localhost:8080/"
        },
        "id": "lrCsT6z3gMnb",
        "outputId": "2052326c-bf3a-4680-edc6-a8323cc62c14"
      },
      "execution_count": 20,
      "outputs": [
        {
          "output_type": "execute_result",
          "data": {
            "text/plain": [
              "array([ 0.84147098,  0.90929743,  0.14112001, -0.7568025 , -0.95892427,\n",
              "       -0.2794155 ])"
            ]
          },
          "metadata": {},
          "execution_count": 20
        }
      ]
    },
    {
      "cell_type": "markdown",
      "source": [
        "**Cosine**"
      ],
      "metadata": {
        "id": "8f6viRJKgZPr"
      }
    },
    {
      "cell_type": "code",
      "source": [
        "np.cos(a1) # Cosine"
      ],
      "metadata": {
        "colab": {
          "base_uri": "https://localhost:8080/"
        },
        "id": "WGe6s6N7gljl",
        "outputId": "60532401-930b-40a9-c589-22964379fe21"
      },
      "execution_count": 21,
      "outputs": [
        {
          "output_type": "execute_result",
          "data": {
            "text/plain": [
              "array([ 0.54030231, -0.41614684, -0.9899925 , -0.65364362,  0.28366219,\n",
              "        0.96017029])"
            ]
          },
          "metadata": {},
          "execution_count": 21
        }
      ]
    },
    {
      "cell_type": "markdown",
      "source": [
        "**Tangent**"
      ],
      "metadata": {
        "id": "0yWLmBcHgdtK"
      }
    },
    {
      "cell_type": "code",
      "source": [
        "np.tan(a1) # Tangent"
      ],
      "metadata": {
        "colab": {
          "base_uri": "https://localhost:8080/"
        },
        "id": "vHCGX8y6gmPP",
        "outputId": "9a936ce0-711a-4f10-941c-3610c0ca9ed1"
      },
      "execution_count": 22,
      "outputs": [
        {
          "output_type": "execute_result",
          "data": {
            "text/plain": [
              "array([ 1.55740772, -2.18503986, -0.14254654,  1.15782128, -3.38051501,\n",
              "       -0.29100619])"
            ]
          },
          "metadata": {},
          "execution_count": 22
        }
      ]
    }
  ]
}