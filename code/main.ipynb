{
 "cells": [
  {
   "cell_type": "code",
   "execution_count": 1,
   "id": "46fd0af6",
   "metadata": {
    "_cell_guid": "b1076dfc-b9ad-4769-8c92-a6c4dae69d19",
    "_uuid": "8f2839f25d086af736a60e9eeb907d3b93b6e0e5",
    "execution": {
     "iopub.execute_input": "2025-10-07T08:50:43.771359Z",
     "iopub.status.busy": "2025-10-07T08:50:43.771017Z",
     "iopub.status.idle": "2025-10-07T08:50:45.597212Z",
     "shell.execute_reply": "2025-10-07T08:50:45.596125Z"
    },
    "papermill": {
     "duration": 1.835183,
     "end_time": "2025-10-07T08:50:45.598659",
     "exception": false,
     "start_time": "2025-10-07T08:50:43.763476",
     "status": "completed"
    },
    "tags": []
   },
   "outputs": [
    {
     "name": "stdout",
     "output_type": "stream",
     "text": [
      "/kaggle/input/electric-vehicle-specifications-dataset-2025/electric_vehicles_spec_2025.csv.csv\n"
     ]
    }
   ],
   "source": [
    "# This Python 3 environment comes with many helpful analytics libraries installed\n",
    "# It is defined by the kaggle/python Docker image: https://github.com/kaggle/docker-python\n",
    "# For example, here's several helpful packages to load\n",
    "\n",
    "import numpy as np # linear algebra\n",
    "import pandas as pd # data processing, CSV file I/O (e.g. pd.read_csv)\n",
    "\n",
    "# Input data files are available in the read-only \"../input/\" directory\n",
    "# For example, running this (by clicking run or pressing Shift+Enter) will list all files under the input directory\n",
    "\n",
    "import os\n",
    "for dirname, _, filenames in os.walk('/kaggle/input'):\n",
    "    for filename in filenames:\n",
    "        print(os.path.join(dirname, filename))\n",
    "\n",
    "# You can write up to 20GB to the current directory (/kaggle/working/) that gets preserved as output when you create a version using \"Save & Run All\" \n",
    "# You can also write temporary files to /kaggle/temp/, but they won't be saved outside of the current session"
   ]
  },
  {
   "cell_type": "code",
   "execution_count": 2,
   "id": "20b53908",
   "metadata": {
    "execution": {
     "iopub.execute_input": "2025-10-07T08:50:45.611350Z",
     "iopub.status.busy": "2025-10-07T08:50:45.610964Z",
     "iopub.status.idle": "2025-10-07T08:50:45.667208Z",
     "shell.execute_reply": "2025-10-07T08:50:45.666361Z"
    },
    "papermill": {
     "duration": 0.064586,
     "end_time": "2025-10-07T08:50:45.668970",
     "exception": false,
     "start_time": "2025-10-07T08:50:45.604384",
     "status": "completed"
    },
    "tags": []
   },
   "outputs": [
    {
     "name": "stderr",
     "output_type": "stream",
     "text": [
      "/usr/local/lib/python3.11/dist-packages/pandas/io/formats/format.py:1458: RuntimeWarning: invalid value encountered in greater\n",
      "  has_large_values = (abs_vals > 1e6).any()\n",
      "/usr/local/lib/python3.11/dist-packages/pandas/io/formats/format.py:1459: RuntimeWarning: invalid value encountered in less\n",
      "  has_small_values = ((abs_vals < 10 ** (-self.digits)) & (abs_vals > 0)).any()\n",
      "/usr/local/lib/python3.11/dist-packages/pandas/io/formats/format.py:1459: RuntimeWarning: invalid value encountered in greater\n",
      "  has_small_values = ((abs_vals < 10 ** (-self.digits)) & (abs_vals > 0)).any()\n"
     ]
    },
    {
     "data": {
      "text/html": [
       "<div>\n",
       "<style scoped>\n",
       "    .dataframe tbody tr th:only-of-type {\n",
       "        vertical-align: middle;\n",
       "    }\n",
       "\n",
       "    .dataframe tbody tr th {\n",
       "        vertical-align: top;\n",
       "    }\n",
       "\n",
       "    .dataframe thead th {\n",
       "        text-align: right;\n",
       "    }\n",
       "</style>\n",
       "<table border=\"1\" class=\"dataframe\">\n",
       "  <thead>\n",
       "    <tr style=\"text-align: right;\">\n",
       "      <th></th>\n",
       "      <th>brand</th>\n",
       "      <th>model</th>\n",
       "      <th>top_speed_kmh</th>\n",
       "      <th>battery_capacity_kWh</th>\n",
       "      <th>battery_type</th>\n",
       "      <th>number_of_cells</th>\n",
       "      <th>torque_nm</th>\n",
       "      <th>efficiency_wh_per_km</th>\n",
       "      <th>range_km</th>\n",
       "      <th>acceleration_0_100_s</th>\n",
       "      <th>fast_charging_power_kw_dc</th>\n",
       "      <th>fast_charge_port</th>\n",
       "      <th>towing_capacity_kg</th>\n",
       "      <th>cargo_volume_l</th>\n",
       "      <th>seats</th>\n",
       "      <th>drivetrain</th>\n",
       "      <th>segment</th>\n",
       "      <th>length_mm</th>\n",
       "      <th>width_mm</th>\n",
       "      <th>height_mm</th>\n",
       "      <th>car_body_type</th>\n",
       "      <th>source_url</th>\n",
       "    </tr>\n",
       "  </thead>\n",
       "  <tbody>\n",
       "    <tr>\n",
       "      <th>0</th>\n",
       "      <td>Abarth</td>\n",
       "      <td>500e Convertible</td>\n",
       "      <td>155</td>\n",
       "      <td>37.8</td>\n",
       "      <td>Lithium-ion</td>\n",
       "      <td>192.0</td>\n",
       "      <td>235.0</td>\n",
       "      <td>156</td>\n",
       "      <td>225</td>\n",
       "      <td>7.0</td>\n",
       "      <td>67.0</td>\n",
       "      <td>CCS</td>\n",
       "      <td>0.0</td>\n",
       "      <td>185</td>\n",
       "      <td>4</td>\n",
       "      <td>FWD</td>\n",
       "      <td>B - Compact</td>\n",
       "      <td>3673</td>\n",
       "      <td>1683</td>\n",
       "      <td>1518</td>\n",
       "      <td>Hatchback</td>\n",
       "      <td>https://ev-database.org/car/1904/Abarth-500e-C...</td>\n",
       "    </tr>\n",
       "    <tr>\n",
       "      <th>1</th>\n",
       "      <td>Abarth</td>\n",
       "      <td>500e Hatchback</td>\n",
       "      <td>155</td>\n",
       "      <td>37.8</td>\n",
       "      <td>Lithium-ion</td>\n",
       "      <td>192.0</td>\n",
       "      <td>235.0</td>\n",
       "      <td>149</td>\n",
       "      <td>225</td>\n",
       "      <td>7.0</td>\n",
       "      <td>67.0</td>\n",
       "      <td>CCS</td>\n",
       "      <td>0.0</td>\n",
       "      <td>185</td>\n",
       "      <td>4</td>\n",
       "      <td>FWD</td>\n",
       "      <td>B - Compact</td>\n",
       "      <td>3673</td>\n",
       "      <td>1683</td>\n",
       "      <td>1518</td>\n",
       "      <td>Hatchback</td>\n",
       "      <td>https://ev-database.org/car/1903/Abarth-500e-H...</td>\n",
       "    </tr>\n",
       "    <tr>\n",
       "      <th>2</th>\n",
       "      <td>Abarth</td>\n",
       "      <td>600e Scorpionissima</td>\n",
       "      <td>200</td>\n",
       "      <td>50.8</td>\n",
       "      <td>Lithium-ion</td>\n",
       "      <td>102.0</td>\n",
       "      <td>345.0</td>\n",
       "      <td>158</td>\n",
       "      <td>280</td>\n",
       "      <td>5.9</td>\n",
       "      <td>79.0</td>\n",
       "      <td>CCS</td>\n",
       "      <td>0.0</td>\n",
       "      <td>360</td>\n",
       "      <td>5</td>\n",
       "      <td>FWD</td>\n",
       "      <td>JB - Compact</td>\n",
       "      <td>4187</td>\n",
       "      <td>1779</td>\n",
       "      <td>1557</td>\n",
       "      <td>SUV</td>\n",
       "      <td>https://ev-database.org/car/3057/Abarth-600e-S...</td>\n",
       "    </tr>\n",
       "    <tr>\n",
       "      <th>3</th>\n",
       "      <td>Abarth</td>\n",
       "      <td>600e Turismo</td>\n",
       "      <td>200</td>\n",
       "      <td>50.8</td>\n",
       "      <td>Lithium-ion</td>\n",
       "      <td>102.0</td>\n",
       "      <td>345.0</td>\n",
       "      <td>158</td>\n",
       "      <td>280</td>\n",
       "      <td>6.2</td>\n",
       "      <td>79.0</td>\n",
       "      <td>CCS</td>\n",
       "      <td>0.0</td>\n",
       "      <td>360</td>\n",
       "      <td>5</td>\n",
       "      <td>FWD</td>\n",
       "      <td>JB - Compact</td>\n",
       "      <td>4187</td>\n",
       "      <td>1779</td>\n",
       "      <td>1557</td>\n",
       "      <td>SUV</td>\n",
       "      <td>https://ev-database.org/car/3056/Abarth-600e-T...</td>\n",
       "    </tr>\n",
       "    <tr>\n",
       "      <th>4</th>\n",
       "      <td>Aiways</td>\n",
       "      <td>U5</td>\n",
       "      <td>150</td>\n",
       "      <td>60.0</td>\n",
       "      <td>Lithium-ion</td>\n",
       "      <td>NaN</td>\n",
       "      <td>310.0</td>\n",
       "      <td>156</td>\n",
       "      <td>315</td>\n",
       "      <td>7.5</td>\n",
       "      <td>78.0</td>\n",
       "      <td>CCS</td>\n",
       "      <td>NaN</td>\n",
       "      <td>496</td>\n",
       "      <td>5</td>\n",
       "      <td>FWD</td>\n",
       "      <td>JC - Medium</td>\n",
       "      <td>4680</td>\n",
       "      <td>1865</td>\n",
       "      <td>1700</td>\n",
       "      <td>SUV</td>\n",
       "      <td>https://ev-database.org/car/1678/Aiways-U5</td>\n",
       "    </tr>\n",
       "  </tbody>\n",
       "</table>\n",
       "</div>"
      ],
      "text/plain": [
       "    brand                model  top_speed_kmh  battery_capacity_kWh  \\\n",
       "0  Abarth     500e Convertible            155                  37.8   \n",
       "1  Abarth       500e Hatchback            155                  37.8   \n",
       "2  Abarth  600e Scorpionissima            200                  50.8   \n",
       "3  Abarth         600e Turismo            200                  50.8   \n",
       "4  Aiways                   U5            150                  60.0   \n",
       "\n",
       "  battery_type  number_of_cells  torque_nm  efficiency_wh_per_km  range_km  \\\n",
       "0  Lithium-ion            192.0      235.0                   156       225   \n",
       "1  Lithium-ion            192.0      235.0                   149       225   \n",
       "2  Lithium-ion            102.0      345.0                   158       280   \n",
       "3  Lithium-ion            102.0      345.0                   158       280   \n",
       "4  Lithium-ion              NaN      310.0                   156       315   \n",
       "\n",
       "   acceleration_0_100_s  fast_charging_power_kw_dc fast_charge_port  \\\n",
       "0                   7.0                       67.0              CCS   \n",
       "1                   7.0                       67.0              CCS   \n",
       "2                   5.9                       79.0              CCS   \n",
       "3                   6.2                       79.0              CCS   \n",
       "4                   7.5                       78.0              CCS   \n",
       "\n",
       "   towing_capacity_kg cargo_volume_l  seats drivetrain       segment  \\\n",
       "0                 0.0            185      4        FWD   B - Compact   \n",
       "1                 0.0            185      4        FWD   B - Compact   \n",
       "2                 0.0            360      5        FWD  JB - Compact   \n",
       "3                 0.0            360      5        FWD  JB - Compact   \n",
       "4                 NaN            496      5        FWD   JC - Medium   \n",
       "\n",
       "   length_mm  width_mm  height_mm car_body_type  \\\n",
       "0       3673      1683       1518     Hatchback   \n",
       "1       3673      1683       1518     Hatchback   \n",
       "2       4187      1779       1557           SUV   \n",
       "3       4187      1779       1557           SUV   \n",
       "4       4680      1865       1700           SUV   \n",
       "\n",
       "                                          source_url  \n",
       "0  https://ev-database.org/car/1904/Abarth-500e-C...  \n",
       "1  https://ev-database.org/car/1903/Abarth-500e-H...  \n",
       "2  https://ev-database.org/car/3057/Abarth-600e-S...  \n",
       "3  https://ev-database.org/car/3056/Abarth-600e-T...  \n",
       "4         https://ev-database.org/car/1678/Aiways-U5  "
      ]
     },
     "execution_count": 2,
     "metadata": {},
     "output_type": "execute_result"
    }
   ],
   "source": [
    "pd.set_option('display.max_columns', None)\n",
    "data = pd.read_csv('/kaggle/input/electric-vehicle-specifications-dataset-2025/electric_vehicles_spec_2025.csv.csv')\n",
    "data.head()"
   ]
  },
  {
   "cell_type": "code",
   "execution_count": 3,
   "id": "e6428d5f",
   "metadata": {
    "execution": {
     "iopub.execute_input": "2025-10-07T08:50:45.681123Z",
     "iopub.status.busy": "2025-10-07T08:50:45.680819Z",
     "iopub.status.idle": "2025-10-07T08:50:45.690522Z",
     "shell.execute_reply": "2025-10-07T08:50:45.689780Z"
    },
    "papermill": {
     "duration": 0.017436,
     "end_time": "2025-10-07T08:50:45.692003",
     "exception": false,
     "start_time": "2025-10-07T08:50:45.674567",
     "status": "completed"
    },
    "tags": []
   },
   "outputs": [
    {
     "data": {
      "text/plain": [
       "brand                          0\n",
       "model                          1\n",
       "top_speed_kmh                  0\n",
       "battery_capacity_kWh           0\n",
       "battery_type                   0\n",
       "number_of_cells              202\n",
       "torque_nm                      7\n",
       "efficiency_wh_per_km           0\n",
       "range_km                       0\n",
       "acceleration_0_100_s           0\n",
       "fast_charging_power_kw_dc      1\n",
       "fast_charge_port               1\n",
       "towing_capacity_kg            26\n",
       "cargo_volume_l                 1\n",
       "seats                          0\n",
       "drivetrain                     0\n",
       "segment                        0\n",
       "length_mm                      0\n",
       "width_mm                       0\n",
       "height_mm                      0\n",
       "car_body_type                  0\n",
       "source_url                     0\n",
       "dtype: int64"
      ]
     },
     "execution_count": 3,
     "metadata": {},
     "output_type": "execute_result"
    }
   ],
   "source": [
    "data.isna().sum()"
   ]
  },
  {
   "cell_type": "code",
   "execution_count": 4,
   "id": "7fd3ed4e",
   "metadata": {
    "execution": {
     "iopub.execute_input": "2025-10-07T08:50:45.704958Z",
     "iopub.status.busy": "2025-10-07T08:50:45.704617Z",
     "iopub.status.idle": "2025-10-07T08:50:45.726143Z",
     "shell.execute_reply": "2025-10-07T08:50:45.725065Z"
    },
    "papermill": {
     "duration": 0.029677,
     "end_time": "2025-10-07T08:50:45.727674",
     "exception": false,
     "start_time": "2025-10-07T08:50:45.697997",
     "status": "completed"
    },
    "tags": []
   },
   "outputs": [
    {
     "name": "stdout",
     "output_type": "stream",
     "text": [
      "<class 'pandas.core.frame.DataFrame'>\n",
      "RangeIndex: 478 entries, 0 to 477\n",
      "Data columns (total 22 columns):\n",
      " #   Column                     Non-Null Count  Dtype  \n",
      "---  ------                     --------------  -----  \n",
      " 0   brand                      478 non-null    object \n",
      " 1   model                      477 non-null    object \n",
      " 2   top_speed_kmh              478 non-null    int64  \n",
      " 3   battery_capacity_kWh       478 non-null    float64\n",
      " 4   battery_type               478 non-null    object \n",
      " 5   number_of_cells            276 non-null    float64\n",
      " 6   torque_nm                  471 non-null    float64\n",
      " 7   efficiency_wh_per_km       478 non-null    int64  \n",
      " 8   range_km                   478 non-null    int64  \n",
      " 9   acceleration_0_100_s       478 non-null    float64\n",
      " 10  fast_charging_power_kw_dc  477 non-null    float64\n",
      " 11  fast_charge_port           477 non-null    object \n",
      " 12  towing_capacity_kg         452 non-null    float64\n",
      " 13  cargo_volume_l             477 non-null    object \n",
      " 14  seats                      478 non-null    int64  \n",
      " 15  drivetrain                 478 non-null    object \n",
      " 16  segment                    478 non-null    object \n",
      " 17  length_mm                  478 non-null    int64  \n",
      " 18  width_mm                   478 non-null    int64  \n",
      " 19  height_mm                  478 non-null    int64  \n",
      " 20  car_body_type              478 non-null    object \n",
      " 21  source_url                 478 non-null    object \n",
      "dtypes: float64(6), int64(7), object(9)\n",
      "memory usage: 82.3+ KB\n"
     ]
    }
   ],
   "source": [
    "data.info()"
   ]
  },
  {
   "cell_type": "code",
   "execution_count": 5,
   "id": "9dba28ae",
   "metadata": {
    "execution": {
     "iopub.execute_input": "2025-10-07T08:50:45.740595Z",
     "iopub.status.busy": "2025-10-07T08:50:45.740256Z",
     "iopub.status.idle": "2025-10-07T08:50:45.746075Z",
     "shell.execute_reply": "2025-10-07T08:50:45.745243Z"
    },
    "papermill": {
     "duration": 0.013822,
     "end_time": "2025-10-07T08:50:45.747385",
     "exception": false,
     "start_time": "2025-10-07T08:50:45.733563",
     "status": "completed"
    },
    "tags": []
   },
   "outputs": [
    {
     "data": {
      "text/plain": [
       "Index(['brand', 'model', 'top_speed_kmh', 'battery_capacity_kWh',\n",
       "       'battery_type', 'number_of_cells', 'torque_nm', 'efficiency_wh_per_km',\n",
       "       'range_km', 'acceleration_0_100_s', 'fast_charging_power_kw_dc',\n",
       "       'fast_charge_port', 'towing_capacity_kg', 'cargo_volume_l', 'seats',\n",
       "       'drivetrain', 'segment', 'length_mm', 'width_mm', 'height_mm',\n",
       "       'car_body_type', 'source_url'],\n",
       "      dtype='object')"
      ]
     },
     "execution_count": 5,
     "metadata": {},
     "output_type": "execute_result"
    }
   ],
   "source": [
    "data.columns"
   ]
  },
  {
   "cell_type": "code",
   "execution_count": 6,
   "id": "f19fea32",
   "metadata": {
    "execution": {
     "iopub.execute_input": "2025-10-07T08:50:45.760307Z",
     "iopub.status.busy": "2025-10-07T08:50:45.759566Z",
     "iopub.status.idle": "2025-10-07T08:50:45.779377Z",
     "shell.execute_reply": "2025-10-07T08:50:45.778473Z"
    },
    "papermill": {
     "duration": 0.027679,
     "end_time": "2025-10-07T08:50:45.780754",
     "exception": false,
     "start_time": "2025-10-07T08:50:45.753075",
     "status": "completed"
    },
    "tags": []
   },
   "outputs": [
    {
     "name": "stderr",
     "output_type": "stream",
     "text": [
      "/usr/local/lib/python3.11/dist-packages/pandas/io/formats/format.py:1458: RuntimeWarning: invalid value encountered in greater\n",
      "  has_large_values = (abs_vals > 1e6).any()\n",
      "/usr/local/lib/python3.11/dist-packages/pandas/io/formats/format.py:1459: RuntimeWarning: invalid value encountered in less\n",
      "  has_small_values = ((abs_vals < 10 ** (-self.digits)) & (abs_vals > 0)).any()\n",
      "/usr/local/lib/python3.11/dist-packages/pandas/io/formats/format.py:1459: RuntimeWarning: invalid value encountered in greater\n",
      "  has_small_values = ((abs_vals < 10 ** (-self.digits)) & (abs_vals > 0)).any()\n"
     ]
    },
    {
     "data": {
      "text/html": [
       "<div>\n",
       "<style scoped>\n",
       "    .dataframe tbody tr th:only-of-type {\n",
       "        vertical-align: middle;\n",
       "    }\n",
       "\n",
       "    .dataframe tbody tr th {\n",
       "        vertical-align: top;\n",
       "    }\n",
       "\n",
       "    .dataframe thead th {\n",
       "        text-align: right;\n",
       "    }\n",
       "</style>\n",
       "<table border=\"1\" class=\"dataframe\">\n",
       "  <thead>\n",
       "    <tr style=\"text-align: right;\">\n",
       "      <th></th>\n",
       "      <th>brand</th>\n",
       "      <th>model</th>\n",
       "      <th>top_speed_kmh</th>\n",
       "      <th>battery_capacity_kWh</th>\n",
       "      <th>battery_type</th>\n",
       "      <th>number_of_cells</th>\n",
       "      <th>torque_nm</th>\n",
       "      <th>efficiency_wh_per_km</th>\n",
       "      <th>range_km</th>\n",
       "      <th>acceleration_0_100_s</th>\n",
       "      <th>fast_charging_power_kw_dc</th>\n",
       "      <th>fast_charge_port</th>\n",
       "      <th>towing_capacity_kg</th>\n",
       "      <th>cargo_volume_l</th>\n",
       "      <th>seats</th>\n",
       "      <th>drivetrain</th>\n",
       "      <th>segment</th>\n",
       "      <th>length_mm</th>\n",
       "      <th>width_mm</th>\n",
       "      <th>height_mm</th>\n",
       "      <th>car_body_type</th>\n",
       "      <th>source_url</th>\n",
       "    </tr>\n",
       "  </thead>\n",
       "  <tbody>\n",
       "    <tr>\n",
       "      <th>101</th>\n",
       "      <td>Dongfeng</td>\n",
       "      <td>Box 42.3 kWh</td>\n",
       "      <td>140</td>\n",
       "      <td>40.0</td>\n",
       "      <td>Lithium-ion</td>\n",
       "      <td>NaN</td>\n",
       "      <td>160.0</td>\n",
       "      <td>129</td>\n",
       "      <td>255</td>\n",
       "      <td>12.5</td>\n",
       "      <td>51.0</td>\n",
       "      <td>CCS</td>\n",
       "      <td>NaN</td>\n",
       "      <td>326</td>\n",
       "      <td>5</td>\n",
       "      <td>FWD</td>\n",
       "      <td>B - Compact</td>\n",
       "      <td>4020</td>\n",
       "      <td>1810</td>\n",
       "      <td>1570</td>\n",
       "      <td>Hatchback</td>\n",
       "      <td>https://ev-database.org/car/3036/Dongfeng-Box-...</td>\n",
       "    </tr>\n",
       "  </tbody>\n",
       "</table>\n",
       "</div>"
      ],
      "text/plain": [
       "        brand         model  top_speed_kmh  battery_capacity_kWh battery_type  \\\n",
       "101  Dongfeng  Box 42.3 kWh            140                  40.0  Lithium-ion   \n",
       "\n",
       "     number_of_cells  torque_nm  efficiency_wh_per_km  range_km  \\\n",
       "101              NaN      160.0                   129       255   \n",
       "\n",
       "     acceleration_0_100_s  fast_charging_power_kw_dc fast_charge_port  \\\n",
       "101                  12.5                       51.0              CCS   \n",
       "\n",
       "     towing_capacity_kg cargo_volume_l  seats drivetrain      segment  \\\n",
       "101                 NaN            326      5        FWD  B - Compact   \n",
       "\n",
       "     length_mm  width_mm  height_mm car_body_type  \\\n",
       "101       4020      1810       1570     Hatchback   \n",
       "\n",
       "                                            source_url  \n",
       "101  https://ev-database.org/car/3036/Dongfeng-Box-...  "
      ]
     },
     "execution_count": 6,
     "metadata": {},
     "output_type": "execute_result"
    }
   ],
   "source": [
    "data.sample()"
   ]
  },
  {
   "cell_type": "code",
   "execution_count": 7,
   "id": "a7eee374",
   "metadata": {
    "execution": {
     "iopub.execute_input": "2025-10-07T08:50:45.795206Z",
     "iopub.status.busy": "2025-10-07T08:50:45.794406Z",
     "iopub.status.idle": "2025-10-07T08:50:45.799911Z",
     "shell.execute_reply": "2025-10-07T08:50:45.799092Z"
    },
    "papermill": {
     "duration": 0.013784,
     "end_time": "2025-10-07T08:50:45.801166",
     "exception": false,
     "start_time": "2025-10-07T08:50:45.787382",
     "status": "completed"
    },
    "tags": []
   },
   "outputs": [
    {
     "data": {
      "text/plain": [
       "(478, 22)"
      ]
     },
     "execution_count": 7,
     "metadata": {},
     "output_type": "execute_result"
    }
   ],
   "source": [
    "data.shape"
   ]
  },
  {
   "cell_type": "code",
   "execution_count": 8,
   "id": "d54d3ca6",
   "metadata": {
    "execution": {
     "iopub.execute_input": "2025-10-07T08:50:45.814340Z",
     "iopub.status.busy": "2025-10-07T08:50:45.814034Z",
     "iopub.status.idle": "2025-10-07T08:50:45.823414Z",
     "shell.execute_reply": "2025-10-07T08:50:45.822620Z"
    },
    "papermill": {
     "duration": 0.017689,
     "end_time": "2025-10-07T08:50:45.824877",
     "exception": false,
     "start_time": "2025-10-07T08:50:45.807188",
     "status": "completed"
    },
    "tags": []
   },
   "outputs": [
    {
     "data": {
      "text/plain": [
       "number_of_cells\n",
       "288.0     44\n",
       "216.0     21\n",
       "396.0     21\n",
       "96.0      21\n",
       "324.0     17\n",
       "192.0     16\n",
       "180.0     16\n",
       "102.0     15\n",
       "384.0     12\n",
       "360.0      7\n",
       "312.0      6\n",
       "118.0      6\n",
       "376.0      6\n",
       "104.0      5\n",
       "4416.0     5\n",
       "110.0      5\n",
       "204.0      5\n",
       "300.0      5\n",
       "456.0      4\n",
       "184.0      4\n",
       "7920.0     4\n",
       "150.0      4\n",
       "172.0      4\n",
       "108.0      3\n",
       "93.0       3\n",
       "5400.0     2\n",
       "126.0      2\n",
       "90.0       2\n",
       "72.0       2\n",
       "348.0      1\n",
       "432.0      1\n",
       "132.0      1\n",
       "6600.0     1\n",
       "264.0      1\n",
       "94.0       1\n",
       "128.0      1\n",
       "160.0      1\n",
       "112.0      1\n",
       "Name: count, dtype: int64"
      ]
     },
     "execution_count": 8,
     "metadata": {},
     "output_type": "execute_result"
    }
   ],
   "source": [
    "data.number_of_cells.value_counts()"
   ]
  },
  {
   "cell_type": "code",
   "execution_count": 9,
   "id": "f7f70d59",
   "metadata": {
    "execution": {
     "iopub.execute_input": "2025-10-07T08:50:45.839228Z",
     "iopub.status.busy": "2025-10-07T08:50:45.838919Z",
     "iopub.status.idle": "2025-10-07T08:50:45.845089Z",
     "shell.execute_reply": "2025-10-07T08:50:45.844237Z"
    },
    "papermill": {
     "duration": 0.015136,
     "end_time": "2025-10-07T08:50:45.846403",
     "exception": false,
     "start_time": "2025-10-07T08:50:45.831267",
     "status": "completed"
    },
    "tags": []
   },
   "outputs": [
    {
     "data": {
      "text/plain": [
       "485.29347826086956"
      ]
     },
     "execution_count": 9,
     "metadata": {},
     "output_type": "execute_result"
    }
   ],
   "source": [
    "data.number_of_cells.mean()"
   ]
  },
  {
   "cell_type": "code",
   "execution_count": 10,
   "id": "bf3d1ff8",
   "metadata": {
    "execution": {
     "iopub.execute_input": "2025-10-07T08:50:45.860098Z",
     "iopub.status.busy": "2025-10-07T08:50:45.859819Z",
     "iopub.status.idle": "2025-10-07T08:50:45.865555Z",
     "shell.execute_reply": "2025-10-07T08:50:45.864683Z"
    },
    "papermill": {
     "duration": 0.014706,
     "end_time": "2025-10-07T08:50:45.867278",
     "exception": false,
     "start_time": "2025-10-07T08:50:45.852572",
     "status": "completed"
    },
    "tags": []
   },
   "outputs": [
    {
     "data": {
      "text/plain": [
       "216.0"
      ]
     },
     "execution_count": 10,
     "metadata": {},
     "output_type": "execute_result"
    }
   ],
   "source": [
    "data.number_of_cells.median()"
   ]
  },
  {
   "cell_type": "code",
   "execution_count": 11,
   "id": "944c4a9a",
   "metadata": {
    "execution": {
     "iopub.execute_input": "2025-10-07T08:50:45.881159Z",
     "iopub.status.busy": "2025-10-07T08:50:45.880598Z",
     "iopub.status.idle": "2025-10-07T08:50:45.887551Z",
     "shell.execute_reply": "2025-10-07T08:50:45.886774Z"
    },
    "papermill": {
     "duration": 0.015487,
     "end_time": "2025-10-07T08:50:45.889076",
     "exception": false,
     "start_time": "2025-10-07T08:50:45.873589",
     "status": "completed"
    },
    "tags": []
   },
   "outputs": [],
   "source": [
    "data.number_of_cells = data.number_of_cells.fillna(data.number_of_cells.median())\n",
    "data.towing_capacity_kg = data.towing_capacity_kg.fillna(data.towing_capacity_kg.median())\n",
    "data.torque_nm = data.torque_nm.fillna(data.torque_nm.median())"
   ]
  },
  {
   "cell_type": "code",
   "execution_count": 12,
   "id": "556c163b",
   "metadata": {
    "execution": {
     "iopub.execute_input": "2025-10-07T08:50:45.902993Z",
     "iopub.status.busy": "2025-10-07T08:50:45.902314Z",
     "iopub.status.idle": "2025-10-07T08:50:45.909198Z",
     "shell.execute_reply": "2025-10-07T08:50:45.908516Z"
    },
    "papermill": {
     "duration": 0.015185,
     "end_time": "2025-10-07T08:50:45.910478",
     "exception": false,
     "start_time": "2025-10-07T08:50:45.895293",
     "status": "completed"
    },
    "tags": []
   },
   "outputs": [
    {
     "data": {
      "text/plain": [
       "drivetrain\n",
       "AWD    191\n",
       "FWD    156\n",
       "RWD    131\n",
       "Name: count, dtype: int64"
      ]
     },
     "execution_count": 12,
     "metadata": {},
     "output_type": "execute_result"
    }
   ],
   "source": [
    "data.drivetrain.value_counts()"
   ]
  },
  {
   "cell_type": "code",
   "execution_count": 13,
   "id": "8cc4dd73",
   "metadata": {
    "execution": {
     "iopub.execute_input": "2025-10-07T08:50:45.924457Z",
     "iopub.status.busy": "2025-10-07T08:50:45.923635Z",
     "iopub.status.idle": "2025-10-07T08:50:45.930628Z",
     "shell.execute_reply": "2025-10-07T08:50:45.929921Z"
    },
    "papermill": {
     "duration": 0.015334,
     "end_time": "2025-10-07T08:50:45.932018",
     "exception": false,
     "start_time": "2025-10-07T08:50:45.916684",
     "status": "completed"
    },
    "tags": []
   },
   "outputs": [
    {
     "data": {
      "text/plain": [
       "segment\n",
       "JC - Medium          91\n",
       "JD - Large           58\n",
       "F - Luxury           51\n",
       "N - Passenger Van    47\n",
       "JB - Compact         44\n",
       "C - Medium           34\n",
       "E - Executive        30\n",
       "JF - Luxury          30\n",
       "B - Compact          29\n",
       "JE - Executive       28\n",
       "D - Large            28\n",
       "A - Mini              3\n",
       "JA - Mini             2\n",
       "G - Sports            2\n",
       "I - Luxury            1\n",
       "Name: count, dtype: int64"
      ]
     },
     "execution_count": 13,
     "metadata": {},
     "output_type": "execute_result"
    }
   ],
   "source": [
    "data.segment.value_counts()"
   ]
  },
  {
   "cell_type": "code",
   "execution_count": 14,
   "id": "86463c09",
   "metadata": {
    "execution": {
     "iopub.execute_input": "2025-10-07T08:50:45.946469Z",
     "iopub.status.busy": "2025-10-07T08:50:45.945822Z",
     "iopub.status.idle": "2025-10-07T08:50:45.952320Z",
     "shell.execute_reply": "2025-10-07T08:50:45.951625Z"
    },
    "papermill": {
     "duration": 0.014835,
     "end_time": "2025-10-07T08:50:45.953490",
     "exception": false,
     "start_time": "2025-10-07T08:50:45.938655",
     "status": "completed"
    },
    "tags": []
   },
   "outputs": [
    {
     "data": {
      "text/plain": [
       "car_body_type\n",
       "SUV                    244\n",
       "Sedan                   63\n",
       "Hatchback               57\n",
       "Small Passenger Van     47\n",
       "Liftback Sedan          33\n",
       "Station/Estate          27\n",
       "Cabriolet                5\n",
       "Coupe                    2\n",
       "Name: count, dtype: int64"
      ]
     },
     "execution_count": 14,
     "metadata": {},
     "output_type": "execute_result"
    }
   ],
   "source": [
    "data.car_body_type.value_counts()"
   ]
  },
  {
   "cell_type": "code",
   "execution_count": 15,
   "id": "a98ab49c",
   "metadata": {
    "execution": {
     "iopub.execute_input": "2025-10-07T08:50:45.967460Z",
     "iopub.status.busy": "2025-10-07T08:50:45.967175Z",
     "iopub.status.idle": "2025-10-07T08:50:45.976065Z",
     "shell.execute_reply": "2025-10-07T08:50:45.975202Z"
    },
    "papermill": {
     "duration": 0.017507,
     "end_time": "2025-10-07T08:50:45.977450",
     "exception": false,
     "start_time": "2025-10-07T08:50:45.959943",
     "status": "completed"
    },
    "tags": []
   },
   "outputs": [],
   "source": [
    "drivetrain_encoded = pd.get_dummies(data.drivetrain).astype('int8')\n",
    "segment_encoded = pd.get_dummies(data.segment).astype('int8')\n",
    "car_body_type_encoded = pd.get_dummies(data.car_body_type).astype('int8')"
   ]
  },
  {
   "cell_type": "code",
   "execution_count": 16,
   "id": "3b95e688",
   "metadata": {
    "execution": {
     "iopub.execute_input": "2025-10-07T08:50:45.991924Z",
     "iopub.status.busy": "2025-10-07T08:50:45.991618Z",
     "iopub.status.idle": "2025-10-07T08:50:45.998434Z",
     "shell.execute_reply": "2025-10-07T08:50:45.997669Z"
    },
    "papermill": {
     "duration": 0.015713,
     "end_time": "2025-10-07T08:50:45.999898",
     "exception": false,
     "start_time": "2025-10-07T08:50:45.984185",
     "status": "completed"
    },
    "tags": []
   },
   "outputs": [
    {
     "data": {
      "text/plain": [
       "battery_type\n",
       "Lithium-ion    478\n",
       "Name: count, dtype: int64"
      ]
     },
     "execution_count": 16,
     "metadata": {},
     "output_type": "execute_result"
    }
   ],
   "source": [
    "data.battery_type.value_counts()"
   ]
  },
  {
   "cell_type": "code",
   "execution_count": 17,
   "id": "8610b063",
   "metadata": {
    "execution": {
     "iopub.execute_input": "2025-10-07T08:50:46.014372Z",
     "iopub.status.busy": "2025-10-07T08:50:46.014058Z",
     "iopub.status.idle": "2025-10-07T08:50:46.021156Z",
     "shell.execute_reply": "2025-10-07T08:50:46.020217Z"
    },
    "papermill": {
     "duration": 0.015935,
     "end_time": "2025-10-07T08:50:46.022544",
     "exception": false,
     "start_time": "2025-10-07T08:50:46.006609",
     "status": "completed"
    },
    "tags": []
   },
   "outputs": [
    {
     "data": {
      "text/plain": [
       "fast_charge_port\n",
       "CCS        476\n",
       "CHAdeMO      1\n",
       "Name: count, dtype: int64"
      ]
     },
     "execution_count": 17,
     "metadata": {},
     "output_type": "execute_result"
    }
   ],
   "source": [
    "data.fast_charge_port.value_counts()"
   ]
  },
  {
   "cell_type": "code",
   "execution_count": 18,
   "id": "1883e1e8",
   "metadata": {
    "execution": {
     "iopub.execute_input": "2025-10-07T08:50:46.037048Z",
     "iopub.status.busy": "2025-10-07T08:50:46.036684Z",
     "iopub.status.idle": "2025-10-07T08:50:46.041374Z",
     "shell.execute_reply": "2025-10-07T08:50:46.040766Z"
    },
    "papermill": {
     "duration": 0.013539,
     "end_time": "2025-10-07T08:50:46.042773",
     "exception": false,
     "start_time": "2025-10-07T08:50:46.029234",
     "status": "completed"
    },
    "tags": []
   },
   "outputs": [],
   "source": [
    "data_encoded = data.copy()"
   ]
  },
  {
   "cell_type": "code",
   "execution_count": 19,
   "id": "327ef54e",
   "metadata": {
    "execution": {
     "iopub.execute_input": "2025-10-07T08:50:46.057121Z",
     "iopub.status.busy": "2025-10-07T08:50:46.056827Z",
     "iopub.status.idle": "2025-10-07T08:50:46.062280Z",
     "shell.execute_reply": "2025-10-07T08:50:46.061533Z"
    },
    "papermill": {
     "duration": 0.014294,
     "end_time": "2025-10-07T08:50:46.063609",
     "exception": false,
     "start_time": "2025-10-07T08:50:46.049315",
     "status": "completed"
    },
    "tags": []
   },
   "outputs": [
    {
     "data": {
      "text/plain": [
       "(478, 22)"
      ]
     },
     "execution_count": 19,
     "metadata": {},
     "output_type": "execute_result"
    }
   ],
   "source": [
    "data_encoded.shape"
   ]
  },
  {
   "cell_type": "code",
   "execution_count": 20,
   "id": "241e30eb",
   "metadata": {
    "execution": {
     "iopub.execute_input": "2025-10-07T08:50:46.078104Z",
     "iopub.status.busy": "2025-10-07T08:50:46.077806Z",
     "iopub.status.idle": "2025-10-07T08:50:46.084366Z",
     "shell.execute_reply": "2025-10-07T08:50:46.083702Z"
    },
    "papermill": {
     "duration": 0.015501,
     "end_time": "2025-10-07T08:50:46.085773",
     "exception": false,
     "start_time": "2025-10-07T08:50:46.070272",
     "status": "completed"
    },
    "tags": []
   },
   "outputs": [
    {
     "data": {
      "text/plain": [
       "fast_charge_port\n",
       "CCS        476\n",
       "CHAdeMO      1\n",
       "Name: count, dtype: int64"
      ]
     },
     "execution_count": 20,
     "metadata": {},
     "output_type": "execute_result"
    }
   ],
   "source": [
    "data_encoded.fast_charge_port.value_counts()"
   ]
  },
  {
   "cell_type": "code",
   "execution_count": 21,
   "id": "b175f6c9",
   "metadata": {
    "execution": {
     "iopub.execute_input": "2025-10-07T08:50:46.100681Z",
     "iopub.status.busy": "2025-10-07T08:50:46.100355Z",
     "iopub.status.idle": "2025-10-07T08:50:46.107484Z",
     "shell.execute_reply": "2025-10-07T08:50:46.106654Z"
    },
    "papermill": {
     "duration": 0.016179,
     "end_time": "2025-10-07T08:50:46.108924",
     "exception": false,
     "start_time": "2025-10-07T08:50:46.092745",
     "status": "completed"
    },
    "tags": []
   },
   "outputs": [],
   "source": [
    "data_encoded = data_encoded.drop(['brand', 'model', 'battery_type', 'fast_charge_port', 'drivetrain', 'segment', 'car_body_type', 'source_url'], axis=1)\n",
    "data_encoded = pd.concat([data_encoded, drivetrain_encoded, segment_encoded, car_body_type_encoded], axis=1)"
   ]
  },
  {
   "cell_type": "code",
   "execution_count": 22,
   "id": "180a7c5c",
   "metadata": {
    "execution": {
     "iopub.execute_input": "2025-10-07T08:50:46.123582Z",
     "iopub.status.busy": "2025-10-07T08:50:46.123252Z",
     "iopub.status.idle": "2025-10-07T08:50:46.130592Z",
     "shell.execute_reply": "2025-10-07T08:50:46.129916Z"
    },
    "papermill": {
     "duration": 0.016281,
     "end_time": "2025-10-07T08:50:46.132044",
     "exception": false,
     "start_time": "2025-10-07T08:50:46.115763",
     "status": "completed"
    },
    "tags": []
   },
   "outputs": [
    {
     "data": {
      "text/plain": [
       "top_speed_kmh                0\n",
       "battery_capacity_kWh         0\n",
       "number_of_cells              0\n",
       "torque_nm                    0\n",
       "efficiency_wh_per_km         0\n",
       "range_km                     0\n",
       "acceleration_0_100_s         0\n",
       "fast_charging_power_kw_dc    1\n",
       "towing_capacity_kg           0\n",
       "cargo_volume_l               1\n",
       "seats                        0\n",
       "length_mm                    0\n",
       "width_mm                     0\n",
       "height_mm                    0\n",
       "AWD                          0\n",
       "FWD                          0\n",
       "RWD                          0\n",
       "A - Mini                     0\n",
       "B - Compact                  0\n",
       "C - Medium                   0\n",
       "D - Large                    0\n",
       "E - Executive                0\n",
       "F - Luxury                   0\n",
       "G - Sports                   0\n",
       "I - Luxury                   0\n",
       "JA - Mini                    0\n",
       "JB - Compact                 0\n",
       "JC - Medium                  0\n",
       "JD - Large                   0\n",
       "JE - Executive               0\n",
       "JF - Luxury                  0\n",
       "N - Passenger Van            0\n",
       "Cabriolet                    0\n",
       "Coupe                        0\n",
       "Hatchback                    0\n",
       "Liftback Sedan               0\n",
       "SUV                          0\n",
       "Sedan                        0\n",
       "Small Passenger Van          0\n",
       "Station/Estate               0\n",
       "dtype: int64"
      ]
     },
     "execution_count": 22,
     "metadata": {},
     "output_type": "execute_result"
    }
   ],
   "source": [
    "data_encoded.isna().sum()"
   ]
  },
  {
   "cell_type": "code",
   "execution_count": 23,
   "id": "1505f3e7",
   "metadata": {
    "execution": {
     "iopub.execute_input": "2025-10-07T08:50:46.147137Z",
     "iopub.status.busy": "2025-10-07T08:50:46.146572Z",
     "iopub.status.idle": "2025-10-07T08:50:46.166897Z",
     "shell.execute_reply": "2025-10-07T08:50:46.166044Z"
    },
    "papermill": {
     "duration": 0.0295,
     "end_time": "2025-10-07T08:50:46.168361",
     "exception": false,
     "start_time": "2025-10-07T08:50:46.138861",
     "status": "completed"
    },
    "tags": []
   },
   "outputs": [
    {
     "data": {
      "text/html": [
       "<div>\n",
       "<style scoped>\n",
       "    .dataframe tbody tr th:only-of-type {\n",
       "        vertical-align: middle;\n",
       "    }\n",
       "\n",
       "    .dataframe tbody tr th {\n",
       "        vertical-align: top;\n",
       "    }\n",
       "\n",
       "    .dataframe thead th {\n",
       "        text-align: right;\n",
       "    }\n",
       "</style>\n",
       "<table border=\"1\" class=\"dataframe\">\n",
       "  <thead>\n",
       "    <tr style=\"text-align: right;\">\n",
       "      <th></th>\n",
       "      <th>top_speed_kmh</th>\n",
       "      <th>battery_capacity_kWh</th>\n",
       "      <th>number_of_cells</th>\n",
       "      <th>torque_nm</th>\n",
       "      <th>efficiency_wh_per_km</th>\n",
       "      <th>range_km</th>\n",
       "      <th>acceleration_0_100_s</th>\n",
       "      <th>fast_charging_power_kw_dc</th>\n",
       "      <th>towing_capacity_kg</th>\n",
       "      <th>cargo_volume_l</th>\n",
       "      <th>seats</th>\n",
       "      <th>length_mm</th>\n",
       "      <th>width_mm</th>\n",
       "      <th>height_mm</th>\n",
       "      <th>AWD</th>\n",
       "      <th>FWD</th>\n",
       "      <th>RWD</th>\n",
       "      <th>A - Mini</th>\n",
       "      <th>B - Compact</th>\n",
       "      <th>C - Medium</th>\n",
       "      <th>D - Large</th>\n",
       "      <th>E - Executive</th>\n",
       "      <th>F - Luxury</th>\n",
       "      <th>G - Sports</th>\n",
       "      <th>I - Luxury</th>\n",
       "      <th>JA - Mini</th>\n",
       "      <th>JB - Compact</th>\n",
       "      <th>JC - Medium</th>\n",
       "      <th>JD - Large</th>\n",
       "      <th>JE - Executive</th>\n",
       "      <th>JF - Luxury</th>\n",
       "      <th>N - Passenger Van</th>\n",
       "      <th>Cabriolet</th>\n",
       "      <th>Coupe</th>\n",
       "      <th>Hatchback</th>\n",
       "      <th>Liftback Sedan</th>\n",
       "      <th>SUV</th>\n",
       "      <th>Sedan</th>\n",
       "      <th>Small Passenger Van</th>\n",
       "      <th>Station/Estate</th>\n",
       "    </tr>\n",
       "  </thead>\n",
       "  <tbody>\n",
       "    <tr>\n",
       "      <th>0</th>\n",
       "      <td>155</td>\n",
       "      <td>37.8</td>\n",
       "      <td>192.0</td>\n",
       "      <td>235.0</td>\n",
       "      <td>156</td>\n",
       "      <td>225</td>\n",
       "      <td>7.0</td>\n",
       "      <td>67.0</td>\n",
       "      <td>0.0</td>\n",
       "      <td>185</td>\n",
       "      <td>4</td>\n",
       "      <td>3673</td>\n",
       "      <td>1683</td>\n",
       "      <td>1518</td>\n",
       "      <td>0</td>\n",
       "      <td>1</td>\n",
       "      <td>0</td>\n",
       "      <td>0</td>\n",
       "      <td>1</td>\n",
       "      <td>0</td>\n",
       "      <td>0</td>\n",
       "      <td>0</td>\n",
       "      <td>0</td>\n",
       "      <td>0</td>\n",
       "      <td>0</td>\n",
       "      <td>0</td>\n",
       "      <td>0</td>\n",
       "      <td>0</td>\n",
       "      <td>0</td>\n",
       "      <td>0</td>\n",
       "      <td>0</td>\n",
       "      <td>0</td>\n",
       "      <td>0</td>\n",
       "      <td>0</td>\n",
       "      <td>1</td>\n",
       "      <td>0</td>\n",
       "      <td>0</td>\n",
       "      <td>0</td>\n",
       "      <td>0</td>\n",
       "      <td>0</td>\n",
       "    </tr>\n",
       "    <tr>\n",
       "      <th>1</th>\n",
       "      <td>155</td>\n",
       "      <td>37.8</td>\n",
       "      <td>192.0</td>\n",
       "      <td>235.0</td>\n",
       "      <td>149</td>\n",
       "      <td>225</td>\n",
       "      <td>7.0</td>\n",
       "      <td>67.0</td>\n",
       "      <td>0.0</td>\n",
       "      <td>185</td>\n",
       "      <td>4</td>\n",
       "      <td>3673</td>\n",
       "      <td>1683</td>\n",
       "      <td>1518</td>\n",
       "      <td>0</td>\n",
       "      <td>1</td>\n",
       "      <td>0</td>\n",
       "      <td>0</td>\n",
       "      <td>1</td>\n",
       "      <td>0</td>\n",
       "      <td>0</td>\n",
       "      <td>0</td>\n",
       "      <td>0</td>\n",
       "      <td>0</td>\n",
       "      <td>0</td>\n",
       "      <td>0</td>\n",
       "      <td>0</td>\n",
       "      <td>0</td>\n",
       "      <td>0</td>\n",
       "      <td>0</td>\n",
       "      <td>0</td>\n",
       "      <td>0</td>\n",
       "      <td>0</td>\n",
       "      <td>0</td>\n",
       "      <td>1</td>\n",
       "      <td>0</td>\n",
       "      <td>0</td>\n",
       "      <td>0</td>\n",
       "      <td>0</td>\n",
       "      <td>0</td>\n",
       "    </tr>\n",
       "    <tr>\n",
       "      <th>2</th>\n",
       "      <td>200</td>\n",
       "      <td>50.8</td>\n",
       "      <td>102.0</td>\n",
       "      <td>345.0</td>\n",
       "      <td>158</td>\n",
       "      <td>280</td>\n",
       "      <td>5.9</td>\n",
       "      <td>79.0</td>\n",
       "      <td>0.0</td>\n",
       "      <td>360</td>\n",
       "      <td>5</td>\n",
       "      <td>4187</td>\n",
       "      <td>1779</td>\n",
       "      <td>1557</td>\n",
       "      <td>0</td>\n",
       "      <td>1</td>\n",
       "      <td>0</td>\n",
       "      <td>0</td>\n",
       "      <td>0</td>\n",
       "      <td>0</td>\n",
       "      <td>0</td>\n",
       "      <td>0</td>\n",
       "      <td>0</td>\n",
       "      <td>0</td>\n",
       "      <td>0</td>\n",
       "      <td>0</td>\n",
       "      <td>1</td>\n",
       "      <td>0</td>\n",
       "      <td>0</td>\n",
       "      <td>0</td>\n",
       "      <td>0</td>\n",
       "      <td>0</td>\n",
       "      <td>0</td>\n",
       "      <td>0</td>\n",
       "      <td>0</td>\n",
       "      <td>0</td>\n",
       "      <td>1</td>\n",
       "      <td>0</td>\n",
       "      <td>0</td>\n",
       "      <td>0</td>\n",
       "    </tr>\n",
       "    <tr>\n",
       "      <th>3</th>\n",
       "      <td>200</td>\n",
       "      <td>50.8</td>\n",
       "      <td>102.0</td>\n",
       "      <td>345.0</td>\n",
       "      <td>158</td>\n",
       "      <td>280</td>\n",
       "      <td>6.2</td>\n",
       "      <td>79.0</td>\n",
       "      <td>0.0</td>\n",
       "      <td>360</td>\n",
       "      <td>5</td>\n",
       "      <td>4187</td>\n",
       "      <td>1779</td>\n",
       "      <td>1557</td>\n",
       "      <td>0</td>\n",
       "      <td>1</td>\n",
       "      <td>0</td>\n",
       "      <td>0</td>\n",
       "      <td>0</td>\n",
       "      <td>0</td>\n",
       "      <td>0</td>\n",
       "      <td>0</td>\n",
       "      <td>0</td>\n",
       "      <td>0</td>\n",
       "      <td>0</td>\n",
       "      <td>0</td>\n",
       "      <td>1</td>\n",
       "      <td>0</td>\n",
       "      <td>0</td>\n",
       "      <td>0</td>\n",
       "      <td>0</td>\n",
       "      <td>0</td>\n",
       "      <td>0</td>\n",
       "      <td>0</td>\n",
       "      <td>0</td>\n",
       "      <td>0</td>\n",
       "      <td>1</td>\n",
       "      <td>0</td>\n",
       "      <td>0</td>\n",
       "      <td>0</td>\n",
       "    </tr>\n",
       "    <tr>\n",
       "      <th>4</th>\n",
       "      <td>150</td>\n",
       "      <td>60.0</td>\n",
       "      <td>216.0</td>\n",
       "      <td>310.0</td>\n",
       "      <td>156</td>\n",
       "      <td>315</td>\n",
       "      <td>7.5</td>\n",
       "      <td>78.0</td>\n",
       "      <td>1000.0</td>\n",
       "      <td>496</td>\n",
       "      <td>5</td>\n",
       "      <td>4680</td>\n",
       "      <td>1865</td>\n",
       "      <td>1700</td>\n",
       "      <td>0</td>\n",
       "      <td>1</td>\n",
       "      <td>0</td>\n",
       "      <td>0</td>\n",
       "      <td>0</td>\n",
       "      <td>0</td>\n",
       "      <td>0</td>\n",
       "      <td>0</td>\n",
       "      <td>0</td>\n",
       "      <td>0</td>\n",
       "      <td>0</td>\n",
       "      <td>0</td>\n",
       "      <td>0</td>\n",
       "      <td>1</td>\n",
       "      <td>0</td>\n",
       "      <td>0</td>\n",
       "      <td>0</td>\n",
       "      <td>0</td>\n",
       "      <td>0</td>\n",
       "      <td>0</td>\n",
       "      <td>0</td>\n",
       "      <td>0</td>\n",
       "      <td>1</td>\n",
       "      <td>0</td>\n",
       "      <td>0</td>\n",
       "      <td>0</td>\n",
       "    </tr>\n",
       "  </tbody>\n",
       "</table>\n",
       "</div>"
      ],
      "text/plain": [
       "   top_speed_kmh  battery_capacity_kWh  number_of_cells  torque_nm  \\\n",
       "0            155                  37.8            192.0      235.0   \n",
       "1            155                  37.8            192.0      235.0   \n",
       "2            200                  50.8            102.0      345.0   \n",
       "3            200                  50.8            102.0      345.0   \n",
       "4            150                  60.0            216.0      310.0   \n",
       "\n",
       "   efficiency_wh_per_km  range_km  acceleration_0_100_s  \\\n",
       "0                   156       225                   7.0   \n",
       "1                   149       225                   7.0   \n",
       "2                   158       280                   5.9   \n",
       "3                   158       280                   6.2   \n",
       "4                   156       315                   7.5   \n",
       "\n",
       "   fast_charging_power_kw_dc  towing_capacity_kg cargo_volume_l  seats  \\\n",
       "0                       67.0                 0.0            185      4   \n",
       "1                       67.0                 0.0            185      4   \n",
       "2                       79.0                 0.0            360      5   \n",
       "3                       79.0                 0.0            360      5   \n",
       "4                       78.0              1000.0            496      5   \n",
       "\n",
       "   length_mm  width_mm  height_mm  AWD  FWD  RWD  A - Mini  B - Compact  \\\n",
       "0       3673      1683       1518    0    1    0         0            1   \n",
       "1       3673      1683       1518    0    1    0         0            1   \n",
       "2       4187      1779       1557    0    1    0         0            0   \n",
       "3       4187      1779       1557    0    1    0         0            0   \n",
       "4       4680      1865       1700    0    1    0         0            0   \n",
       "\n",
       "   C - Medium  D - Large  E - Executive  F - Luxury  G - Sports  I - Luxury  \\\n",
       "0           0          0              0           0           0           0   \n",
       "1           0          0              0           0           0           0   \n",
       "2           0          0              0           0           0           0   \n",
       "3           0          0              0           0           0           0   \n",
       "4           0          0              0           0           0           0   \n",
       "\n",
       "   JA - Mini  JB - Compact  JC - Medium  JD - Large  JE - Executive  \\\n",
       "0          0             0            0           0               0   \n",
       "1          0             0            0           0               0   \n",
       "2          0             1            0           0               0   \n",
       "3          0             1            0           0               0   \n",
       "4          0             0            1           0               0   \n",
       "\n",
       "   JF - Luxury  N - Passenger Van  Cabriolet  Coupe  Hatchback  \\\n",
       "0            0                  0          0      0          1   \n",
       "1            0                  0          0      0          1   \n",
       "2            0                  0          0      0          0   \n",
       "3            0                  0          0      0          0   \n",
       "4            0                  0          0      0          0   \n",
       "\n",
       "   Liftback Sedan  SUV  Sedan  Small Passenger Van  Station/Estate  \n",
       "0               0    0      0                    0               0  \n",
       "1               0    0      0                    0               0  \n",
       "2               0    1      0                    0               0  \n",
       "3               0    1      0                    0               0  \n",
       "4               0    1      0                    0               0  "
      ]
     },
     "execution_count": 23,
     "metadata": {},
     "output_type": "execute_result"
    }
   ],
   "source": [
    "data_encoded.head()"
   ]
  },
  {
   "cell_type": "code",
   "execution_count": 24,
   "id": "776ff684",
   "metadata": {
    "execution": {
     "iopub.execute_input": "2025-10-07T08:50:46.184413Z",
     "iopub.status.busy": "2025-10-07T08:50:46.183839Z",
     "iopub.status.idle": "2025-10-07T08:50:46.188966Z",
     "shell.execute_reply": "2025-10-07T08:50:46.188285Z"
    },
    "papermill": {
     "duration": 0.014689,
     "end_time": "2025-10-07T08:50:46.190364",
     "exception": false,
     "start_time": "2025-10-07T08:50:46.175675",
     "status": "completed"
    },
    "tags": []
   },
   "outputs": [],
   "source": [
    "def to_numeric_or_nan(x):\n",
    "    try:\n",
    "        return float(x)\n",
    "    except:\n",
    "        return np.nan\n",
    "        \n",
    "data_encoded.cargo_volume_l = data_encoded.cargo_volume_l.apply(to_numeric_or_nan)"
   ]
  },
  {
   "cell_type": "code",
   "execution_count": 25,
   "id": "685221e4",
   "metadata": {
    "execution": {
     "iopub.execute_input": "2025-10-07T08:50:46.206090Z",
     "iopub.status.busy": "2025-10-07T08:50:46.205792Z",
     "iopub.status.idle": "2025-10-07T08:50:46.211511Z",
     "shell.execute_reply": "2025-10-07T08:50:46.210635Z"
    },
    "papermill": {
     "duration": 0.015396,
     "end_time": "2025-10-07T08:50:46.213034",
     "exception": false,
     "start_time": "2025-10-07T08:50:46.197638",
     "status": "completed"
    },
    "tags": []
   },
   "outputs": [],
   "source": [
    "data_encoded.fast_charging_power_kw_dc = data_encoded.fast_charging_power_kw_dc.fillna(data_encoded.fast_charging_power_kw_dc.median())\n",
    "data_encoded.cargo_volume_l = data_encoded.cargo_volume_l.fillna(data_encoded.cargo_volume_l.median())"
   ]
  },
  {
   "cell_type": "code",
   "execution_count": 26,
   "id": "57a746b7",
   "metadata": {
    "execution": {
     "iopub.execute_input": "2025-10-07T08:50:46.228625Z",
     "iopub.status.busy": "2025-10-07T08:50:46.228295Z",
     "iopub.status.idle": "2025-10-07T08:50:46.235489Z",
     "shell.execute_reply": "2025-10-07T08:50:46.234616Z"
    },
    "papermill": {
     "duration": 0.016633,
     "end_time": "2025-10-07T08:50:46.236944",
     "exception": false,
     "start_time": "2025-10-07T08:50:46.220311",
     "status": "completed"
    },
    "tags": []
   },
   "outputs": [
    {
     "data": {
      "text/plain": [
       "top_speed_kmh                  int64\n",
       "battery_capacity_kWh         float64\n",
       "number_of_cells              float64\n",
       "torque_nm                    float64\n",
       "efficiency_wh_per_km           int64\n",
       "range_km                       int64\n",
       "acceleration_0_100_s         float64\n",
       "fast_charging_power_kw_dc    float64\n",
       "towing_capacity_kg           float64\n",
       "cargo_volume_l               float64\n",
       "seats                          int64\n",
       "length_mm                      int64\n",
       "width_mm                       int64\n",
       "height_mm                      int64\n",
       "AWD                             int8\n",
       "FWD                             int8\n",
       "RWD                             int8\n",
       "A - Mini                        int8\n",
       "B - Compact                     int8\n",
       "C - Medium                      int8\n",
       "D - Large                       int8\n",
       "E - Executive                   int8\n",
       "F - Luxury                      int8\n",
       "G - Sports                      int8\n",
       "I - Luxury                      int8\n",
       "JA - Mini                       int8\n",
       "JB - Compact                    int8\n",
       "JC - Medium                     int8\n",
       "JD - Large                      int8\n",
       "JE - Executive                  int8\n",
       "JF - Luxury                     int8\n",
       "N - Passenger Van               int8\n",
       "Cabriolet                       int8\n",
       "Coupe                           int8\n",
       "Hatchback                       int8\n",
       "Liftback Sedan                  int8\n",
       "SUV                             int8\n",
       "Sedan                           int8\n",
       "Small Passenger Van             int8\n",
       "Station/Estate                  int8\n",
       "dtype: object"
      ]
     },
     "execution_count": 26,
     "metadata": {},
     "output_type": "execute_result"
    }
   ],
   "source": [
    "data_encoded.dtypes"
   ]
  },
  {
   "cell_type": "code",
   "execution_count": 27,
   "id": "0da4c14c",
   "metadata": {
    "execution": {
     "iopub.execute_input": "2025-10-07T08:50:46.254939Z",
     "iopub.status.busy": "2025-10-07T08:50:46.254136Z",
     "iopub.status.idle": "2025-10-07T08:50:46.260845Z",
     "shell.execute_reply": "2025-10-07T08:50:46.260053Z"
    },
    "papermill": {
     "duration": 0.016688,
     "end_time": "2025-10-07T08:50:46.262298",
     "exception": false,
     "start_time": "2025-10-07T08:50:46.245610",
     "status": "completed"
    },
    "tags": []
   },
   "outputs": [],
   "source": [
    "X = data_encoded.drop('range_km', axis=1)\n",
    "y = data_encoded.range_km"
   ]
  },
  {
   "cell_type": "code",
   "execution_count": 28,
   "id": "5b4940ed",
   "metadata": {
    "execution": {
     "iopub.execute_input": "2025-10-07T08:50:46.278197Z",
     "iopub.status.busy": "2025-10-07T08:50:46.277898Z",
     "iopub.status.idle": "2025-10-07T08:50:48.505672Z",
     "shell.execute_reply": "2025-10-07T08:50:48.504652Z"
    },
    "papermill": {
     "duration": 2.238214,
     "end_time": "2025-10-07T08:50:48.507837",
     "exception": false,
     "start_time": "2025-10-07T08:50:46.269623",
     "status": "completed"
    },
    "tags": []
   },
   "outputs": [
    {
     "name": "stdout",
     "output_type": "stream",
     "text": [
      "14.125\n"
     ]
    }
   ],
   "source": [
    "from sklearn.ensemble import RandomForestRegressor\n",
    "from sklearn.model_selection import train_test_split\n",
    "from sklearn.metrics import mean_absolute_error\n",
    "\n",
    "train_X, val_X, train_y, val_y = train_test_split(X, y, train_size=0.8, random_state=42)\n",
    "model = RandomForestRegressor(random_state=42)\n",
    "model.fit(train_X, train_y)\n",
    "predictions = model.predict(val_X).astype(int)\n",
    "mae = mean_absolute_error(val_y, predictions)\n",
    "print(mae)"
   ]
  },
  {
   "cell_type": "code",
   "execution_count": 29,
   "id": "8d0c1e8d",
   "metadata": {
    "execution": {
     "iopub.execute_input": "2025-10-07T08:50:48.525811Z",
     "iopub.status.busy": "2025-10-07T08:50:48.525351Z",
     "iopub.status.idle": "2025-10-07T08:50:48.530421Z",
     "shell.execute_reply": "2025-10-07T08:50:48.529575Z"
    },
    "papermill": {
     "duration": 0.014973,
     "end_time": "2025-10-07T08:50:48.531902",
     "exception": false,
     "start_time": "2025-10-07T08:50:48.516929",
     "status": "completed"
    },
    "tags": []
   },
   "outputs": [],
   "source": [
    "predictions_df = pd.DataFrame({'Actual range (km)': val_y, 'Predicted range (km)': predictions})"
   ]
  },
  {
   "cell_type": "code",
   "execution_count": 30,
   "id": "534a9c7e",
   "metadata": {
    "execution": {
     "iopub.execute_input": "2025-10-07T08:50:48.547761Z",
     "iopub.status.busy": "2025-10-07T08:50:48.547404Z",
     "iopub.status.idle": "2025-10-07T08:50:48.556567Z",
     "shell.execute_reply": "2025-10-07T08:50:48.555860Z"
    },
    "papermill": {
     "duration": 0.01896,
     "end_time": "2025-10-07T08:50:48.558217",
     "exception": false,
     "start_time": "2025-10-07T08:50:48.539257",
     "status": "completed"
    },
    "tags": []
   },
   "outputs": [
    {
     "data": {
      "text/html": [
       "<div>\n",
       "<style scoped>\n",
       "    .dataframe tbody tr th:only-of-type {\n",
       "        vertical-align: middle;\n",
       "    }\n",
       "\n",
       "    .dataframe tbody tr th {\n",
       "        vertical-align: top;\n",
       "    }\n",
       "\n",
       "    .dataframe thead th {\n",
       "        text-align: right;\n",
       "    }\n",
       "</style>\n",
       "<table border=\"1\" class=\"dataframe\">\n",
       "  <thead>\n",
       "    <tr style=\"text-align: right;\">\n",
       "      <th></th>\n",
       "      <th>Actual range (km)</th>\n",
       "      <th>Predicted range (km)</th>\n",
       "    </tr>\n",
       "  </thead>\n",
       "  <tbody>\n",
       "    <tr>\n",
       "      <th>469</th>\n",
       "      <td>480</td>\n",
       "      <td>484</td>\n",
       "    </tr>\n",
       "    <tr>\n",
       "      <th>33</th>\n",
       "      <td>495</td>\n",
       "      <td>479</td>\n",
       "    </tr>\n",
       "    <tr>\n",
       "      <th>131</th>\n",
       "      <td>235</td>\n",
       "      <td>244</td>\n",
       "    </tr>\n",
       "    <tr>\n",
       "      <th>72</th>\n",
       "      <td>415</td>\n",
       "      <td>438</td>\n",
       "    </tr>\n",
       "    <tr>\n",
       "      <th>78</th>\n",
       "      <td>445</td>\n",
       "      <td>446</td>\n",
       "    </tr>\n",
       "    <tr>\n",
       "      <th>...</th>\n",
       "      <td>...</td>\n",
       "      <td>...</td>\n",
       "    </tr>\n",
       "    <tr>\n",
       "      <th>140</th>\n",
       "      <td>390</td>\n",
       "      <td>391</td>\n",
       "    </tr>\n",
       "    <tr>\n",
       "      <th>42</th>\n",
       "      <td>430</td>\n",
       "      <td>447</td>\n",
       "    </tr>\n",
       "    <tr>\n",
       "      <th>248</th>\n",
       "      <td>220</td>\n",
       "      <td>220</td>\n",
       "    </tr>\n",
       "    <tr>\n",
       "      <th>296</th>\n",
       "      <td>260</td>\n",
       "      <td>261</td>\n",
       "    </tr>\n",
       "    <tr>\n",
       "      <th>291</th>\n",
       "      <td>245</td>\n",
       "      <td>241</td>\n",
       "    </tr>\n",
       "  </tbody>\n",
       "</table>\n",
       "<p>96 rows × 2 columns</p>\n",
       "</div>"
      ],
      "text/plain": [
       "     Actual range (km)  Predicted range (km)\n",
       "469                480                   484\n",
       "33                 495                   479\n",
       "131                235                   244\n",
       "72                 415                   438\n",
       "78                 445                   446\n",
       "..                 ...                   ...\n",
       "140                390                   391\n",
       "42                 430                   447\n",
       "248                220                   220\n",
       "296                260                   261\n",
       "291                245                   241\n",
       "\n",
       "[96 rows x 2 columns]"
      ]
     },
     "execution_count": 30,
     "metadata": {},
     "output_type": "execute_result"
    }
   ],
   "source": [
    "predictions_df"
   ]
  },
  {
   "cell_type": "code",
   "execution_count": 31,
   "id": "3e88fb42",
   "metadata": {
    "execution": {
     "iopub.execute_input": "2025-10-07T08:50:48.575123Z",
     "iopub.status.busy": "2025-10-07T08:50:48.574303Z",
     "iopub.status.idle": "2025-10-07T08:50:48.583879Z",
     "shell.execute_reply": "2025-10-07T08:50:48.583035Z"
    },
    "papermill": {
     "duration": 0.019606,
     "end_time": "2025-10-07T08:50:48.585466",
     "exception": false,
     "start_time": "2025-10-07T08:50:48.565860",
     "status": "completed"
    },
    "tags": []
   },
   "outputs": [],
   "source": [
    "predictions_df.to_csv('predictions_int.csv')"
   ]
  }
 ],
 "metadata": {
  "kaggle": {
   "accelerator": "none",
   "dataSources": [
    {
     "datasetId": 7702238,
     "sourceId": 12225161,
     "sourceType": "datasetVersion"
    }
   ],
   "dockerImageVersionId": 31089,
   "isGpuEnabled": false,
   "isInternetEnabled": false,
   "language": "python",
   "sourceType": "notebook"
  },
  "kernelspec": {
   "display_name": "Python 3",
   "language": "python",
   "name": "python3"
  },
  "language_info": {
   "codemirror_mode": {
    "name": "ipython",
    "version": 3
   },
   "file_extension": ".py",
   "mimetype": "text/x-python",
   "name": "python",
   "nbconvert_exporter": "python",
   "pygments_lexer": "ipython3",
   "version": "3.11.13"
  },
  "papermill": {
   "default_parameters": {},
   "duration": 10.676395,
   "end_time": "2025-10-07T08:50:49.313479",
   "environment_variables": {},
   "exception": null,
   "input_path": "__notebook__.ipynb",
   "output_path": "__notebook__.ipynb",
   "parameters": {},
   "start_time": "2025-10-07T08:50:38.637084",
   "version": "2.6.0"
  }
 },
 "nbformat": 4,
 "nbformat_minor": 5
}
